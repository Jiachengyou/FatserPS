{
 "cells": [
  {
   "cell_type": "code",
   "execution_count": 66,
   "id": "791a79cb",
   "metadata": {},
   "outputs": [],
   "source": [
    "from pycocotools.coco import COCO\n",
    "import os\n",
    "from collections import defaultdict\n"
   ]
  },
  {
   "cell_type": "code",
   "execution_count": 84,
   "id": "ef0c63fc",
   "metadata": {},
   "outputs": [
    {
     "name": "stdout",
     "output_type": "stream",
     "text": [
      "loading annotations into memory...\n",
      "Done (t=0.20s)\n",
      "creating index...\n",
      "index created!\n",
      "loading annotations into memory...\n",
      "Done (t=0.07s)\n",
      "creating index...\n",
      "index created!\n"
     ]
    }
   ],
   "source": [
    "coco_prw = COCO(os.path.join(\"../PSDT-main/ImageSet/PRW/\", \"test_pid.json\"))\n",
    "coco_prw = COCO(os.path.join(\"../PSDT-main/ImageSet/PRW/\", \"train_pid.json\"))\n"
   ]
  },
  {
   "cell_type": "code",
   "execution_count": 85,
   "id": "cd079361",
   "metadata": {},
   "outputs": [],
   "source": [
    "ids = coco_prw.getImgIds()\n",
    "dict_prw = defaultdict(int)\n",
    "for id_ in ids:\n",
    "    im_ann = coco_prw.loadImgs(id_)[0]\n",
    "    dict_prw[(im_ann['width'], im_ann['height'])] += 1"
   ]
  },
  {
   "cell_type": "code",
   "execution_count": 86,
   "id": "963ad27d",
   "metadata": {},
   "outputs": [
    {
     "data": {
      "text/plain": [
       "defaultdict(int, {(1920, 1080): 4458, (720, 576): 1246})"
      ]
     },
     "execution_count": 86,
     "metadata": {},
     "output_type": "execute_result"
    }
   ],
   "source": [
    "dict_prw"
   ]
  },
  {
   "cell_type": "code",
   "execution_count": 70,
   "id": "a8d5d956",
   "metadata": {},
   "outputs": [
    {
     "name": "stdout",
     "output_type": "stream",
     "text": [
      "loading annotations into memory...\n",
      "Done (t=0.24s)\n",
      "creating index...\n",
      "index created!\n"
     ]
    }
   ],
   "source": [
    "coco_cuhk = COCO(os.path.join(\"../PSDT-main/ImageSet/CUHK/\", \"test_new.json\"))\n",
    "# coco_cuhk = COCO(os.path.join(\"../PSDT-main/ImageSet/CUHK/\", \"train_pid_new.json\"))\n",
    "\n",
    "ids = coco_cuhk.getImgIds()\n",
    "dict_cuhk = defaultdict(int)\n",
    "for id_ in ids:\n",
    "    im_ann = coco_cuhk.loadImgs(id_)[0]\n",
    "    dict_cuhk[(im_ann['width'], im_ann['height'])] += 1"
   ]
  },
  {
   "cell_type": "code",
   "execution_count": 71,
   "id": "c4fb5759",
   "metadata": {},
   "outputs": [
    {
     "data": {
      "text/plain": [
       "defaultdict(int,\n",
       "            {(800, 450): 2291,\n",
       "             (800, 452): 87,\n",
       "             (800, 340): 23,\n",
       "             (800, 434): 39,\n",
       "             (800, 438): 71,\n",
       "             (800, 454): 36,\n",
       "             (800, 447): 9,\n",
       "             (800, 444): 10,\n",
       "             (800, 445): 12,\n",
       "             (800, 453): 7,\n",
       "             (800, 449): 2,\n",
       "             (594, 800): 106,\n",
       "             (800, 600): 835,\n",
       "             (600, 800): 2814,\n",
       "             (800, 800): 24,\n",
       "             (450, 800): 508,\n",
       "             (800, 532): 102,\n",
       "             (800, 594): 2})"
      ]
     },
     "execution_count": 71,
     "metadata": {},
     "output_type": "execute_result"
    }
   ],
   "source": [
    "dict_cuhk"
   ]
  },
  {
   "cell_type": "code",
   "execution_count": null,
   "id": "2773899b",
   "metadata": {},
   "outputs": [],
   "source": []
  },
  {
   "cell_type": "code",
   "execution_count": null,
   "id": "92fb2f5f",
   "metadata": {},
   "outputs": [],
   "source": []
  }
 ],
 "metadata": {
  "kernelspec": {
   "display_name": "txtreid",
   "language": "python",
   "name": "txtreid"
  },
  "language_info": {
   "codemirror_mode": {
    "name": "ipython",
    "version": 3
   },
   "file_extension": ".py",
   "mimetype": "text/x-python",
   "name": "python",
   "nbconvert_exporter": "python",
   "pygments_lexer": "ipython3",
   "version": "3.7.12"
  }
 },
 "nbformat": 4,
 "nbformat_minor": 5
}
