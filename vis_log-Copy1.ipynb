{
 "cells": [
  {
   "cell_type": "code",
   "execution_count": 1,
   "metadata": {},
   "outputs": [],
   "source": [
    "import torch\n",
    "import os\n",
    "from matplotlib import pyplot as plt "
   ]
  },
  {
   "cell_type": "code",
   "execution_count": 3,
   "metadata": {},
   "outputs": [],
   "source": [
    "file = 'nohup_yolox_s_PS_wopretrain.out'\n",
    "file = 'nohup_yolox_s_PS_wopretrain.out'\n",
    "file = 'nohup_yolox_s_PS_reid_woMosaic_maxepoch300_woreidhead.out'\n",
    "file = 'nohup_yolox_s_PS_update.out'\n",
    "file = 'nohup_yolox_s_PS_reid128_wMosaic_maxepoch300_simple_detection.out'\n",
    "with open(file) as f:\n",
    "    data = f.readlines()\n",
    "    "
   ]
  },
  {
   "cell_type": "code",
   "execution_count": 4,
   "metadata": {},
   "outputs": [],
   "source": [
    "epoch = 0\n",
    "mAP50 = []\n",
    "\n",
    "for i, line in enumerate(data):\n",
    "    if '@[ IoU=0.50      |' in line:\n",
    "        value = line.split('=')[-1]\n",
    "        value = float(value.split('%')[0])\n",
    "        mAP50.append(value)"
   ]
  },
  {
   "cell_type": "code",
   "execution_count": 5,
   "metadata": {},
   "outputs": [
    {
     "data": {
      "text/plain": [
       "[0.646,\n",
       " 0.732,\n",
       " 0.778,\n",
       " 0.795,\n",
       " 0.807,\n",
       " 0.809,\n",
       " 0.814,\n",
       " 0.818,\n",
       " 0.818,\n",
       " 0.819,\n",
       " 0.821,\n",
       " 0.823,\n",
       " 0.825,\n",
       " 0.827,\n",
       " 0.827,\n",
       " 0.826,\n",
       " 0.826,\n",
       " 0.825,\n",
       " 0.822,\n",
       " 0.821,\n",
       " 0.818,\n",
       " 0.816,\n",
       " 0.817,\n",
       " 0.818,\n",
       " 0.819,\n",
       " 0.819,\n",
       " 0.82,\n",
       " 0.821,\n",
       " 0.82,\n",
       " 0.821]"
      ]
     },
     "execution_count": 5,
     "metadata": {},
     "output_type": "execute_result"
    }
   ],
   "source": [
    "mAP50"
   ]
  },
  {
   "cell_type": "code",
   "execution_count": 6,
   "metadata": {},
   "outputs": [],
   "source": [
    "mAP50_ = mAP50"
   ]
  },
  {
   "cell_type": "code",
   "execution_count": 7,
   "metadata": {},
   "outputs": [
    {
     "ename": "FileNotFoundError",
     "evalue": "[Errno 2] No such file or directory: 'nohup_yolox_s_PS_reid_wMosaic_maxepoch300.out'",
     "output_type": "error",
     "traceback": [
      "\u001b[0;31m---------------------------------------------------------------------------\u001b[0m",
      "\u001b[0;31mFileNotFoundError\u001b[0m                         Traceback (most recent call last)",
      "\u001b[0;32m/tmp/ipykernel_44486/3950675603.py\u001b[0m in \u001b[0;36m<module>\u001b[0;34m\u001b[0m\n\u001b[1;32m      1\u001b[0m \u001b[0mfile\u001b[0m \u001b[0;34m=\u001b[0m \u001b[0;34m'nohup_yolox_t_PS.out'\u001b[0m\u001b[0;34m\u001b[0m\u001b[0;34m\u001b[0m\u001b[0m\n\u001b[1;32m      2\u001b[0m \u001b[0mfile\u001b[0m \u001b[0;34m=\u001b[0m \u001b[0;34m'nohup_yolox_s_PS_reid_wMosaic_maxepoch300.out'\u001b[0m\u001b[0;34m\u001b[0m\u001b[0;34m\u001b[0m\u001b[0m\n\u001b[0;32m----> 3\u001b[0;31m \u001b[0;32mwith\u001b[0m \u001b[0mopen\u001b[0m\u001b[0;34m(\u001b[0m\u001b[0mfile\u001b[0m\u001b[0;34m)\u001b[0m \u001b[0;32mas\u001b[0m \u001b[0mf\u001b[0m\u001b[0;34m:\u001b[0m\u001b[0;34m\u001b[0m\u001b[0;34m\u001b[0m\u001b[0m\n\u001b[0m\u001b[1;32m      4\u001b[0m     \u001b[0mdata\u001b[0m \u001b[0;34m=\u001b[0m \u001b[0mf\u001b[0m\u001b[0;34m.\u001b[0m\u001b[0mreadlines\u001b[0m\u001b[0;34m(\u001b[0m\u001b[0;34m)\u001b[0m\u001b[0;34m\u001b[0m\u001b[0;34m\u001b[0m\u001b[0m\n",
      "\u001b[0;31mFileNotFoundError\u001b[0m: [Errno 2] No such file or directory: 'nohup_yolox_s_PS_reid_wMosaic_maxepoch300.out'"
     ]
    }
   ],
   "source": [
    "file = 'nohup_yolox_t_PS.out'\n",
    "file = 'nohup_yolox_s_PS_reid_wMosaic_maxepoch300.out'\n",
    "with open(file) as f:\n",
    "    data = f.readlines()"
   ]
  },
  {
   "cell_type": "code",
   "execution_count": 8,
   "metadata": {},
   "outputs": [],
   "source": [
    "epoch = 0\n",
    "mAP50 = []\n",
    "\n",
    "for i, line in enumerate(data):\n",
    "    if '@[ IoU=0.50      |' in line:\n",
    "        value = line.split('=')[-1]\n",
    "        value = float(value.split('%')[0])\n",
    "        mAP50.append(value)"
   ]
  },
  {
   "cell_type": "code",
   "execution_count": 9,
   "metadata": {},
   "outputs": [
    {
     "data": {
      "text/plain": [
       "[0.646,\n",
       " 0.732,\n",
       " 0.778,\n",
       " 0.795,\n",
       " 0.807,\n",
       " 0.809,\n",
       " 0.814,\n",
       " 0.818,\n",
       " 0.818,\n",
       " 0.819,\n",
       " 0.821,\n",
       " 0.823,\n",
       " 0.825,\n",
       " 0.827,\n",
       " 0.827,\n",
       " 0.826,\n",
       " 0.826,\n",
       " 0.825,\n",
       " 0.822,\n",
       " 0.821,\n",
       " 0.818,\n",
       " 0.816,\n",
       " 0.817,\n",
       " 0.818,\n",
       " 0.819,\n",
       " 0.819,\n",
       " 0.82,\n",
       " 0.821,\n",
       " 0.82,\n",
       " 0.821]"
      ]
     },
     "execution_count": 9,
     "metadata": {},
     "output_type": "execute_result"
    }
   ],
   "source": [
    "mAP50"
   ]
  },
  {
   "cell_type": "code",
   "execution_count": 10,
   "metadata": {},
   "outputs": [
    {
     "data": {
      "image/png": "[encoded data removed]",
      "text/plain": [
       "<Figure size 432x288 with 1 Axes>"
      ]
     },
     "metadata": {
      "needs_background": "light"
     },
     "output_type": "display_data"
    }
   ],
   "source": [
    "x = [i for i in range(len(mAP50[:100]))]\n",
    "x2 = [i*5 for i in range(len(mAP50_[:100]))]\n",
    "# new\n",
    "plt.grid(linestyle='-.')\n",
    "plt.plot(x, mAP50[:100], 'r')\n",
    "# baseline\n",
    "plt.plot(x2, mAP50_[:100], 'b')\n",
    "plt.show()\n",
    "# print('top1')\n",
    "# plt.grid(linestyle='-.')\n",
    "# plt.plot(x, Top1, 'r')\n",
    "# # plt.plot(x, Top11[:len(mAP)], 'b')\n",
    "# plt.show()"
   ]
  },
  {
   "cell_type": "code",
   "execution_count": null,
   "metadata": {},
   "outputs": [],
   "source": []
  },
  {
   "cell_type": "code",
   "execution_count": null,
   "metadata": {},
   "outputs": [],
   "source": []
  }
 ],
 "metadata": {
  "kernelspec": {
   "display_name": "txtreid",
   "language": "python",
   "name": "txtreid"
  },
  "language_info": {
   "codemirror_mode": {
    "name": "ipython",
    "version": 3
   },
   "file_extension": ".py",
   "mimetype": "text/x-python",
   "name": "python",
   "nbconvert_exporter": "python",
   "pygments_lexer": "ipython3",
   "version": "3.7.12"
  }
 },
 "nbformat": 4,
 "nbformat_minor": 4
}
