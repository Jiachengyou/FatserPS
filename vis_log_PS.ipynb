{
 "cells": [
  {
   "cell_type": "code",
   "execution_count": 1092,
   "metadata": {},
   "outputs": [],
   "source": [
    "import torch\n",
    "import os\n",
    "from matplotlib import pyplot as plt \n",
    "import json"
   ]
  },
  {
   "cell_type": "code",
   "execution_count": 1224,
   "metadata": {},
   "outputs": [
    {
     "name": "stdout",
     "output_type": "stream",
     "text": [
      "7629\n"
     ]
    }
   ],
   "source": [
    "file = 'nohup_yolox_s_PS_wopretrain.out'\n",
    "file = 'nohup_yolox_s_PS_wopretrain.out'\n",
    "# file = 'nohup_yolox_s_PS_reid_woMosaic.out'\n",
    "file = 'nohup_yolox_s_PS_update.out'\n",
    "file = 'nohup_yolox_s_PS_reid_woMosaic_maxepoch300_woreidhead.out'\n",
    "file = 'nohup_yolox_darket_PS_reid128_wMosaic_maxepoch300_continue.out'\n",
    "file = 'nohup_yolox_s_PS_reid_wMosaic_maxepoch300_2*16.out'\n",
    "file = 'nohup_yolox_darket_PS_reid256_woMosaic_maxepoch300_wfp16_update.out'\n",
    "file = 'nohup_yolox_m_PS_reid128_baseline.out'\n",
    "file = 'nohup_yolox_s_PS_reid128_baseline_fpn_update_v3_woreid.out'\n",
    "file = 'nohup_yolox_s_PS_reid128_baseline_woreid_v0.out'\n",
    "file = 'nohup_yolox_s_PS_reid_woMosaic_maxepoch300_woreidhead.out'\n",
    "file = 'nohup_yolox_s_PS_reid128_baseline_woreid_v0.out'\n",
    "file = 'nohup_yolox_s_PS_reid128_baseline_fpn_update_v3_woreid_v3.out'\n",
    "file = 'nohup_yolox_s_PS_reid128_baseline_woreid_nae_v0.out'\n",
    "file = 'nohup_yolox_s_PS_reid128_baseline_kd.out'\n",
    "file = 'nohup_yolox_s_PS_reid128_baseline_kd_512.out'\n",
    "file = 'nohup_yolox_s_PS_reid128_baseline_kd_256_hierarchy.out'\n",
    "file = 'nohup_yolox_s_PS_reid128_baseline_kd_256_hierarchy_decouple.out'\n",
    "file = 'nohup_yolox_s_PS_reid128_baseline_kd_256_hierarchy_transformer.out'\n",
    "file = 'nohup_yolox_s_PS_reid128_baseline_kd_256_hierarchy_2048.out'\n",
    "file = 'nohup_yolox_s_PS_reid128_baseline_kd_256_hierarchy_fpn512_16.out'\n",
    "file = 'nohup_yolox_s_PS_reid128_baseline_kd_256_hierarchy_transformer_v2_2048.out'\n",
    "\n",
    "# file = 'nohup_yolox_s_PS_reid128_baseline_kd_256_hierarchy_transformer_v2.out'\n",
    "# file = 'nohup_yolox_m_PS_reid128_baseline_kd_256_hierarchy.out'\n",
    "# file = 'nohup_yolox_s_PS_reid128_baseline_kd_256_hierarchy_KL.out'\n",
    "# file = 'nohup_yolox_s_PS_reid128_baseline_kd_256_ligntreid.out'\n",
    "\n",
    "# file = 'nohup_yolox_s_PS_reid_wMosaic_maxepoch300.out'\n",
    "with open(file) as f:\n",
    "    data = f.readlines()\n",
    "print(len(data))"
   ]
  },
  {
   "cell_type": "code",
   "execution_count": 1225,
   "metadata": {},
   "outputs": [],
   "source": [
    "epoch = 0\n",
    "mAP = []\n",
    "top1 = []\n",
    "\n",
    "\n",
    "for i, line in enumerate(data):\n",
    "    if 'mAP = ' in line:\n",
    "        value = line.split('=')[-1]\n",
    "        value = float(value.split('%')[0])\n",
    "        mAP.append(value)\n",
    "    if 'Top- 1 = ' in line:\n",
    "        value = line.split('=')[-1]\n",
    "        value = float(value.split('%')[0])\n",
    "        top1.append(value)"
   ]
  },
  {
   "cell_type": "code",
   "execution_count": 1226,
   "metadata": {},
   "outputs": [
    {
     "data": {
      "text/plain": [
       "[32.09,\n",
       " 51.47,\n",
       " 61.55,\n",
       " 67.91,\n",
       " 71.98,\n",
       " 74.61,\n",
       " 76.48,\n",
       " 77.79,\n",
       " 79.13,\n",
       " 79.85,\n",
       " 81.01,\n",
       " 81.89,\n",
       " 83.15,\n",
       " 83.94,\n",
       " 84.72,\n",
       " 85.7,\n",
       " 86.02,\n",
       " 86.29,\n",
       " 86.52,\n",
       " 86.53,\n",
       " 86.97,\n",
       " 87.33,\n",
       " 87.35,\n",
       " 87.47,\n",
       " 87.64,\n",
       " 87.71,\n",
       " 87.92,\n",
       " 88.11,\n",
       " 88.07,\n",
       " 88.1,\n",
       " 88.17,\n",
       " 88.2,\n",
       " 88.25,\n",
       " 88.39,\n",
       " 88.57,\n",
       " 88.65,\n",
       " 88.65,\n",
       " 88.79,\n",
       " 88.92,\n",
       " 88.88,\n",
       " 88.97,\n",
       " 88.97,\n",
       " 89.04,\n",
       " 89.02,\n",
       " 89.12,\n",
       " 89.17,\n",
       " 89.27,\n",
       " 89.33,\n",
       " 89.35,\n",
       " 89.37,\n",
       " 89.39,\n",
       " 89.4,\n",
       " 89.44]"
      ]
     },
     "execution_count": 1226,
     "metadata": {},
     "output_type": "execute_result"
    }
   ],
   "source": [
    "mAP1 = mAP\n",
    "top11 = top1\n",
    "mAP1"
   ]
  },
  {
   "cell_type": "code",
   "execution_count": 1227,
   "metadata": {},
   "outputs": [
    {
     "data": {
      "text/plain": [
       "[37.11, 54.52, 64.46, 69.74, 73.03]"
      ]
     },
     "execution_count": 1227,
     "metadata": {},
     "output_type": "execute_result"
    }
   ],
   "source": [
    "file = 'nohup_yolox_s_PS_wopretrain.out'\n",
    "file = 'nohup_yolox_s_PS_wopretrain.out'\n",
    "file = 'nohup_yolox_s_PS_reid_woMosaic_total.out'\n",
    "file = 'nohup_yolox_s_PS_reid_woMosaic_maxepoch120.out'\n",
    "file = 'nohup_yolox_s_PS_reid128_baseline_fpn_update.out'\n",
    "file = 'nohup_yolox_s_PS_reid128_baseline_fpn_update_v2.out'\n",
    "# file = 'nohup_yolox_s_PS_reid128_baseline_fpn_update_v3_woreid.out'\n",
    "file = 'nohup_yolox_s_PS_reid128_baseline_fpn_update_v3_woreid_v3.out'\n",
    "file = 'nohup_yolox_s_PS_reid128_baseline_woreid_v2.out'\n",
    "file = 'nohup_yolox_s_PS_reid128_baseline_kd_256.out'\n",
    "file = 'nohup_yolox_darknet_PS_reid128_baseline_kd_256_hierarchy.out'\n",
    "file = 'nohup_yolox_l_PS_reid128_baseline_kd_256_hierarchy.out'\n",
    "file = 'nohup_yolox_s_PS_reid128_baseline_kd_256_hierarchy_largeReid.out'\n",
    "file = 'nohup_yolox_s_PS_reid128_baseline_kd_256_hierarchy_fpn1024_32.out'\n",
    "file = 'nohup_yolox_s_PS_reid128_baseline_kd_256_hierarchy_fpn256_8.out'\n",
    "file = 'nohup_yolox_s_PS_reid128_baseline_kd_256_hierarchy_fpn512_16_v2.out'\n",
    "\n",
    "# file = 'nohup_yolox_s_PS_reid128_baseline_kd_256_hierarchy_decouple_seed2.out'\n",
    "# file = 'nohup_yolox_s_PS_reid128_baseline_kd_256_after.out'\n",
    "# file = 'nohup_yolox_s_PS_reid_woMosaic.out'\n",
    "# file = 'nohup_yolox_s_PS_update.out'\n",
    "# file = 'nohup_yolox_s_PS__reid_embedding256.out'\n",
    "with open(file) as f:\n",
    "    data = f.readlines()\n",
    "    \n",
    "epoch = 0\n",
    "mAP = []\n",
    "top1 = []\n",
    "\n",
    "\n",
    "for i, line in enumerate(data):\n",
    "    if 'mAP = ' in line:\n",
    "        value = line.split('=')[-1]\n",
    "        value = float(value.split('%')[0])\n",
    "        mAP.append(value)\n",
    "    if 'Top- 1 = ' in line:\n",
    "        value = line.split('=')[-1]\n",
    "        value = float(value.split('%')[0])\n",
    "        top1.append(value)\n",
    "mAP    "
   ]
  },
  {
   "cell_type": "code",
   "execution_count": 1228,
   "metadata": {},
   "outputs": [
    {
     "data": {
      "text/plain": [
       "5"
      ]
     },
     "execution_count": 1228,
     "metadata": {},
     "output_type": "execute_result"
    }
   ],
   "source": [
    "len(mAP)"
   ]
  },
  {
   "cell_type": "code",
   "execution_count": 1229,
   "metadata": {},
   "outputs": [
    {
     "data": {
      "image/png": "[encoded data removed]",
      "text/plain": [
       "<Figure size 432x288 with 1 Axes>"
      ]
     },
     "metadata": {
      "needs_background": "light"
     },
     "output_type": "display_data"
    }
   ],
   "source": [
    "x = [i for i in range(len(mAP1))][0:]\n",
    "x2 = [i for i in range(len(mAP))][0:]\n",
    "# new\n",
    "plt.grid(linestyle='-.')\n",
    "plt.plot(x, mAP1[0:], 'b')\n",
    "# baseline\n",
    "plt.plot(x2, mAP[0:], 'r')\n",
    "plt.show()\n",
    "# print('top1')\n",
    "# plt.grid(linestyle='-.')\n",
    "# plt.plot(x, Top1, 'r')\n",
    "# # plt.plot(x, Top11[:len(mAP)], 'b')\n",
    "# plt.show()"
   ]
  },
  {
   "cell_type": "code",
   "execution_count": 1055,
   "metadata": {},
   "outputs": [
    {
     "ename": "FileNotFoundError",
     "evalue": "[Errno 2] No such file or directory: 'nohup_yolox_s_PS_reid_woMosaic_total.out'",
     "output_type": "error",
     "traceback": [
      "\u001b[0;31m---------------------------------------------------------------------------\u001b[0m",
      "\u001b[0;31mFileNotFoundError\u001b[0m                         Traceback (most recent call last)",
      "\u001b[0;32m/tmp/ipykernel_21892/999538129.py\u001b[0m in \u001b[0;36m<module>\u001b[0;34m\u001b[0m\n\u001b[1;32m      5\u001b[0m \u001b[0;31m# file = 'nohup_yolox_s_PS_update.out'\u001b[0m\u001b[0;34m\u001b[0m\u001b[0;34m\u001b[0m\u001b[0;34m\u001b[0m\u001b[0m\n\u001b[1;32m      6\u001b[0m \u001b[0;31m# file = 'nohup_yolox_s_PS__reid_embedding256.out'\u001b[0m\u001b[0;34m\u001b[0m\u001b[0;34m\u001b[0m\u001b[0;34m\u001b[0m\u001b[0m\n\u001b[0;32m----> 7\u001b[0;31m \u001b[0;32mwith\u001b[0m \u001b[0mopen\u001b[0m\u001b[0;34m(\u001b[0m\u001b[0mfile\u001b[0m\u001b[0;34m)\u001b[0m \u001b[0;32mas\u001b[0m \u001b[0mf\u001b[0m\u001b[0;34m:\u001b[0m\u001b[0;34m\u001b[0m\u001b[0;34m\u001b[0m\u001b[0m\n\u001b[0m\u001b[1;32m      8\u001b[0m     \u001b[0mdata\u001b[0m \u001b[0;34m=\u001b[0m \u001b[0mf\u001b[0m\u001b[0;34m.\u001b[0m\u001b[0mreadlines\u001b[0m\u001b[0;34m(\u001b[0m\u001b[0;34m)\u001b[0m\u001b[0;34m\u001b[0m\u001b[0;34m\u001b[0m\u001b[0m\n\u001b[1;32m      9\u001b[0m \u001b[0;34m\u001b[0m\u001b[0m\n",
      "\u001b[0;31mFileNotFoundError\u001b[0m: [Errno 2] No such file or directory: 'nohup_yolox_s_PS_reid_woMosaic_total.out'"
     ]
    }
   ],
   "source": [
    "file = 'nohup_yolox_s_PS_wopretrain.out'\n",
    "file = 'nohup_yolox_s_PS_wopretrain.out'\n",
    "file = 'nohup_yolox_s_PS_reid_woMosaic_total.out'\n",
    "# file = 'nohup_yolox_s_PS_reid_woMosaic.out'\n",
    "# file = 'nohup_yolox_s_PS_update.out'\n",
    "# file = 'nohup_yolox_s_PS__reid_embedding256.out'\n",
    "with open(file) as f:\n",
    "    data = f.readlines()\n",
    "    \n",
    "epoch = 0\n",
    "loss = []\n",
    "avg = []\n",
    "start = False\n",
    "for i, line in enumerate(data):\n",
    "    if 'reid_loss' in line:\n",
    "        start = True\n",
    "        value = line.split(',')[-3]\n",
    "        value = value.split(':')[-1]\n",
    "        value = float(value)\n",
    "        avg.append(value)\n",
    "    \n",
    "avg"
   ]
  },
  {
   "cell_type": "code",
   "execution_count": 156,
   "metadata": {},
   "outputs": [
    {
     "data": {
      "text/plain": [
       "[<matplotlib.lines.Line2D at 0x7f177ace85d0>]"
      ]
     },
     "execution_count": 156,
     "metadata": {},
     "output_type": "execute_result"
    },
    {
     "data": {
      "image/png": "[encoded data removed]",
      "text/plain": [
       "<Figure size 432x288 with 1 Axes>"
      ]
     },
     "metadata": {
      "needs_background": "light"
     },
     "output_type": "display_data"
    }
   ],
   "source": [
    "x = [i for i in range(len(avg)-1)]\n",
    "# new\n",
    "plt.grid(linestyle='-.')\n",
    "plt.plot(x, avg[1:], 'b')"
   ]
  },
  {
   "cell_type": "code",
   "execution_count": null,
   "metadata": {},
   "outputs": [],
   "source": []
  }
 ],
 "metadata": {
  "kernelspec": {
   "display_name": "txtreid",
   "language": "python",
   "name": "txtreid"
  },
  "language_info": {
   "codemirror_mode": {
    "name": "ipython",
    "version": 3
   },
   "file_extension": ".py",
   "mimetype": "text/x-python",
   "name": "python",
   "nbconvert_exporter": "python",
   "pygments_lexer": "ipython3",
   "version": "3.7.12"
  }
 },
 "nbformat": 4,
 "nbformat_minor": 4
}
