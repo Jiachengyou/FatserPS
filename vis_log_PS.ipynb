{
 "cells": [
  {
   "cell_type": "code",
   "execution_count": 1889,
   "metadata": {},
   "outputs": [],
   "source": [
    "import torch\n",
    "import os\n",
    "from matplotlib import pyplot as plt \n",
    "import json"
   ]
  },
  {
   "cell_type": "code",
   "execution_count": 1987,
   "metadata": {},
   "outputs": [
    {
     "name": "stdout",
     "output_type": "stream",
     "text": [
      "13057\n"
     ]
    }
   ],
   "source": [
    "file = 'nohup_yolox_s_PS_wopretrain.out'\n",
    "file = 'nohup_yolox_s_PS_wopretrain.out'\n",
    "# file = 'nohup_yolox_s_PS_reid_woMosaic.out'\n",
    "file = 'nohup_yolox_s_PS_update.out'\n",
    "file = 'nohup_yolox_s_PS_reid_woMosaic_maxepoch300_woreidhead.out'\n",
    "file = 'nohup_yolox_darket_PS_reid128_wMosaic_maxepoch300_continue.out'\n",
    "file = 'nohup_yolox_s_PS_reid_wMosaic_maxepoch300_2*16.out'\n",
    "file = 'nohup_yolox_darket_PS_reid256_woMosaic_maxepoch300_wfp16_update.out'\n",
    "file = 'nohup_yolox_m_PS_reid128_baseline.out'\n",
    "file = 'nohup_yolox_s_PS_reid128_baseline_fpn_update_v3_woreid.out'\n",
    "file = 'nohup_yolox_s_PS_reid128_baseline_woreid_v0.out'\n",
    "file = 'nohup_yolox_s_PS_reid_woMosaic_maxepoch300_woreidhead.out'\n",
    "file = 'nohup_yolox_s_PS_reid128_baseline_woreid_v0.out'\n",
    "file = 'nohup_yolox_s_PS_reid128_baseline_fpn_update_v3_woreid_v3.out'\n",
    "file = 'nohup_yolox_s_PS_reid128_baseline_woreid_nae_v0.out'\n",
    "file = 'nohup_yolox_s_PS_reid128_baseline_kd.out'\n",
    "file = 'nohup_yolox_s_PS_reid128_baseline_kd_512.out'\n",
    "file = 'nohup_yolox_s_PS_reid128_baseline_kd_256_hierarchy.out'\n",
    "file = 'nohup_yolox_s_PS_reid128_baseline_kd_256_hierarchy_decouple.out'\n",
    "file = 'nohup_yolox_s_PS_reid128_baseline_kd_256_hierarchy_transformer.out'\n",
    "file = 'nohup_yolox_s_PS_reid128_baseline_kd_256_hierarchy_fpn512_16.out'\n",
    "file = 'nohup_yolox_s_PS_reid128_baseline_kd_256_hierarchy_fpn512_16_v4_transformerL.out'\n",
    "file = 'nohup_yolox_s_PS_reid128_baseline_kd_256_hierarchy_transformer_v2_2048.out'\n",
    "file = 'nohup_yolox_s_PS_reid128_baseline_kd_256_hierarchy_fpn512_16_v4_transformer.out'\n",
    "file = 'nohup_yolox_s_PS_reid128_baseline_kd_256_hierarchy_fpn512_16_v4_2048.out'\n",
    "file = 'nohup_yolox_s_PS_reid128_baseline_kd_256_hierarchy_fpn512_16_v4.out'\n",
    "# file = 'nohup_yolox_s_PS_prw_oim_w2_sampler_t20.out'\n",
    "# file = 'nohup_yolox_s_PS_detection_distillation_v1.out'\n",
    "# file = 'nohup_yolox_s_PS_detection_distillation_v2.out'\n",
    "# file = 'nohup_yolox_s_PS_prw_class_w2.out'\n",
    "# file = 'nohup_yolox_s_PS_reid128_baseline_kd_256_hierarchy_fpn512_16_v2.out'\n",
    "\n",
    "# file = 'nohup_yolox_s_PS_reid128_baseline_kd_256_hierarchy_transformer_v2_2048.out'\n",
    "\n",
    "# file = 'nohup_yolox_s_PS_reid128_baseline_kd_256_hierarchy_transformer_v2.out'\n",
    "# file = 'nohup_yolox_m_PS_reid128_baseline_kd_256_hierarchy.out'\n",
    "# file = 'nohup_yolox_s_PS_reid128_baseline_kd_256_hierarchy_KL.out'\n",
    "# file = 'nohup_yolox_s_PS_reid128_baseline_kd_256_ligntreid.out'\n",
    "\n",
    "# file = 'nohup_yolox_s_PS_reid_wMosaic_maxepoch300.out'\n",
    "with open(file) as f:\n",
    "    data = f.readlines()\n",
    "print(len(data))"
   ]
  },
  {
   "cell_type": "code",
   "execution_count": 1988,
   "metadata": {},
   "outputs": [],
   "source": [
    "epoch = 0\n",
    "mAP = []\n",
    "top1 = []\n",
    "\n",
    "\n",
    "for i, line in enumerate(data):\n",
    "    if 'mAP = ' in line:\n",
    "        value = line.split('=')[-1]\n",
    "        value = float(value.split('%')[0])\n",
    "        mAP.append(value)\n",
    "    if 'Top- 1 = ' in line:\n",
    "        value = line.split('=')[-1]\n",
    "        value = float(value.split('%')[0])\n",
    "        top1.append(value)"
   ]
  },
  {
   "cell_type": "code",
   "execution_count": 1989,
   "metadata": {},
   "outputs": [
    {
     "data": {
      "text/plain": [
       "[43.67,\n",
       " 62.28,\n",
       " 70.94,\n",
       " 75.7,\n",
       " 78.07,\n",
       " 80.13,\n",
       " 81.36,\n",
       " 82.11,\n",
       " 83.12,\n",
       " 83.81,\n",
       " 84.35,\n",
       " 84.89,\n",
       " 85.59,\n",
       " 85.93,\n",
       " 86.39,\n",
       " 86.7,\n",
       " 86.91,\n",
       " 87.23,\n",
       " 87.44,\n",
       " 87.72,\n",
       " 87.99,\n",
       " 88.1,\n",
       " 88.12,\n",
       " 88.48,\n",
       " 88.69,\n",
       " 88.78,\n",
       " 88.96,\n",
       " 88.89,\n",
       " 88.96,\n",
       " 89.04,\n",
       " 89.14,\n",
       " 89.25,\n",
       " 89.27,\n",
       " 89.32,\n",
       " 89.38,\n",
       " 89.5,\n",
       " 89.55,\n",
       " 89.52,\n",
       " 89.62,\n",
       " 89.77,\n",
       " 89.87,\n",
       " 89.92,\n",
       " 89.94,\n",
       " 90.0,\n",
       " 90.08,\n",
       " 90.09,\n",
       " 90.09,\n",
       " 90.06,\n",
       " 90.04,\n",
       " 90.07,\n",
       " 90.1,\n",
       " 90.17,\n",
       " 90.25,\n",
       " 90.24,\n",
       " 90.23,\n",
       " 90.2,\n",
       " 90.21,\n",
       " 90.23,\n",
       " 90.3,\n",
       " 90.29,\n",
       " 90.31,\n",
       " 90.31,\n",
       " 90.36,\n",
       " 90.33,\n",
       " 90.31,\n",
       " 90.36,\n",
       " 90.4,\n",
       " 90.35,\n",
       " 90.4,\n",
       " 90.44,\n",
       " 90.46,\n",
       " 90.43,\n",
       " 90.44,\n",
       " 90.42,\n",
       " 90.41,\n",
       " 90.42,\n",
       " 90.44,\n",
       " 90.38,\n",
       " 90.43,\n",
       " 90.5,\n",
       " 90.49,\n",
       " 90.55,\n",
       " 90.53,\n",
       " 90.6,\n",
       " 90.56,\n",
       " 90.53,\n",
       " 90.53,\n",
       " 90.56,\n",
       " 90.58,\n",
       " 90.62,\n",
       " 90.6,\n",
       " 90.6,\n",
       " 90.6,\n",
       " 90.57,\n",
       " 90.63,\n",
       " 90.63,\n",
       " 90.61,\n",
       " 90.66,\n",
       " 90.67,\n",
       " 90.68,\n",
       " 90.65,\n",
       " 90.63]"
      ]
     },
     "execution_count": 1989,
     "metadata": {},
     "output_type": "execute_result"
    }
   ],
   "source": [
    "mAP1 = mAP\n",
    "top11 = top1\n",
    "mAP1"
   ]
  },
  {
   "cell_type": "code",
   "execution_count": 2001,
   "metadata": {},
   "outputs": [
    {
     "data": {
      "text/plain": [
       "(85.59, 85.83)"
      ]
     },
     "execution_count": 2001,
     "metadata": {},
     "output_type": "execute_result"
    }
   ],
   "source": [
    "mAP1[12],top11[12]"
   ]
  },
  {
   "cell_type": "code",
   "execution_count": 1990,
   "metadata": {},
   "outputs": [
    {
     "data": {
      "text/plain": [
       "[55.16, 65.09, 71.95, 76.07, 78.46, 80.68, 81.76, 83.44, 84.09]"
      ]
     },
     "execution_count": 1990,
     "metadata": {},
     "output_type": "execute_result"
    }
   ],
   "source": [
    "file = 'nohup_yolox_s_PS_wopretrain.out'\n",
    "file = 'nohup_yolox_s_PS_wopretrain.out'\n",
    "file = 'nohup_yolox_s_PS_reid_woMosaic_total.out'\n",
    "file = 'nohup_yolox_s_PS_reid_woMosaic_maxepoch120.out'\n",
    "file = 'nohup_yolox_s_PS_reid128_baseline_fpn_update.out'\n",
    "file = 'nohup_yolox_s_PS_reid128_baseline_fpn_update_v2.out'\n",
    "# file = 'nohup_yolox_s_PS_reid128_baseline_fpn_update_v3_woreid.out'\n",
    "file = 'nohup_yolox_s_PS_reid128_baseline_fpn_update_v3_woreid_v3.out'\n",
    "file = 'nohup_yolox_s_PS_reid128_baseline_woreid_v2.out'\n",
    "file = 'nohup_yolox_s_PS_reid128_baseline_kd_256.out'\n",
    "file = 'nohup_yolox_darknet_PS_reid128_baseline_kd_256_hierarchy.out'\n",
    "file = 'nohup_yolox_l_PS_reid128_baseline_kd_256_hierarchy.out'\n",
    "file = 'nohup_yolox_s_PS_reid128_baseline_kd_256_hierarchy_largeReid.out'\n",
    "file = 'nohup_yolox_s_PS_reid128_baseline_kd_256_hierarchy_fpn1024_32.out'\n",
    "file = 'nohup_yolox_s_PS_reid128_baseline_kd_256_hierarchy_fpn256_8.out'\n",
    "file = 'nohup_yolox_s_PS_reid128_baseline_kd_256_hierarchy_fpn512_16_v2.out'\n",
    "file = 'nohup_yolox_s_PS_reid128_baseline_kd_256_hierarchy_fpn512_16_v4.out'\n",
    "file = 'nohup_yolox_s_PS_detection_distillation_v4_norm.out'\n",
    "file = 'nohup_yolox_s_PS_prw_class_w2_sampler.out'\n",
    "file = 'nohup_yolox_s_PS_prw_class_w2_sampler_fpn512.out'\n",
    "file = 'nohup_yolox_s_PS_cuhk_class_w2_sampler_fpn512.out'\n",
    "file = 'nohup_yolox_s_PS_cuhk_oim_w2_sampler_t20.out'\n",
    "# file = 'nohup_yolox_m_PS_reid128_baseline_kd_256_hierarchy.out'\n",
    "# file = 'nohup_yolox_s_PS_reid128_baseline_kd_256_hierarchy_2048.out'\n",
    "# file = 'nohup_yolox_s_PS_reid128_baseline_kd_256_hierarchy_transformer_v2_2048.out'\n",
    "# file = 'nohup_yolox_s_PS_reid128_baseline_kd_256_hierarchy_decouple_seed2.out'\n",
    "# file = 'nohup_yolox_s_PS_reid128_baseline_kd_256_after.out'\n",
    "# file = 'nohup_yolox_s_PS_reid_woMosaic.out'\n",
    "# file = 'nohup_yolox_s_PS_update.out'\n",
    "# file = 'nohup_yolox_s_PS__reid_embedding256.out'\n",
    "with open(file) as f:\n",
    "    data = f.readlines()\n",
    "    \n",
    "epoch = 0\n",
    "mAP = []\n",
    "top1 = []\n",
    "\n",
    "\n",
    "for i, line in enumerate(data):\n",
    "    if 'mAP = ' in line:\n",
    "        value = line.split('=')[-1]\n",
    "        value = float(value.split('%')[0])\n",
    "        mAP.append(value)\n",
    "    if 'Top- 1 = ' in line:\n",
    "        value = line.split('=')[-1]\n",
    "        value = float(value.split('%')[0])\n",
    "        top1.append(value)\n",
    "mAP    "
   ]
  },
  {
   "cell_type": "code",
   "execution_count": 1991,
   "metadata": {},
   "outputs": [
    {
     "data": {
      "text/plain": [
       "9"
      ]
     },
     "execution_count": 1991,
     "metadata": {},
     "output_type": "execute_result"
    }
   ],
   "source": [
    "len(mAP)"
   ]
  },
  {
   "cell_type": "code",
   "execution_count": 1992,
   "metadata": {},
   "outputs": [
    {
     "data": {
      "image/png": "[encoded data removed]",
      "text/plain": [
       "<Figure size 432x288 with 1 Axes>"
      ]
     },
     "metadata": {
      "needs_background": "light"
     },
     "output_type": "display_data"
    }
   ],
   "source": [
    "x = [i for i in range(len(mAP1))][5:]\n",
    "x2 = [i for i in range(len(mAP))][5:]\n",
    "# new\n",
    "plt.grid(linestyle='-.')\n",
    "plt.plot(x, mAP1[5:], 'b')\n",
    "# baseline\n",
    "plt.plot(x2, mAP[5:], 'r')\n",
    "plt.show()\n",
    "# print('top1')\n",
    "# plt.grid(linestyle='-.')\n",
    "# plt.plot(x, Top1, 'r')\n",
    "# # plt.plot(x, Top11[:len(mAP)], 'b')\n",
    "# plt.show()"
   ]
  },
  {
   "cell_type": "code",
   "execution_count": 1816,
   "metadata": {},
   "outputs": [
    {
     "ename": "FileNotFoundError",
     "evalue": "[Errno 2] No such file or directory: 'nohup_yolox_s_PS_reid_woMosaic_total.out'",
     "output_type": "error",
     "traceback": [
      "\u001b[0;31m---------------------------------------------------------------------------\u001b[0m",
      "\u001b[0;31mFileNotFoundError\u001b[0m                         Traceback (most recent call last)",
      "\u001b[0;32m/tmp/ipykernel_21892/999538129.py\u001b[0m in \u001b[0;36m<module>\u001b[0;34m\u001b[0m\n\u001b[1;32m      5\u001b[0m \u001b[0;31m# file = 'nohup_yolox_s_PS_update.out'\u001b[0m\u001b[0;34m\u001b[0m\u001b[0;34m\u001b[0m\u001b[0;34m\u001b[0m\u001b[0m\n\u001b[1;32m      6\u001b[0m \u001b[0;31m# file = 'nohup_yolox_s_PS__reid_embedding256.out'\u001b[0m\u001b[0;34m\u001b[0m\u001b[0;34m\u001b[0m\u001b[0;34m\u001b[0m\u001b[0m\n\u001b[0;32m----> 7\u001b[0;31m \u001b[0;32mwith\u001b[0m \u001b[0mopen\u001b[0m\u001b[0;34m(\u001b[0m\u001b[0mfile\u001b[0m\u001b[0;34m)\u001b[0m \u001b[0;32mas\u001b[0m \u001b[0mf\u001b[0m\u001b[0;34m:\u001b[0m\u001b[0;34m\u001b[0m\u001b[0;34m\u001b[0m\u001b[0m\n\u001b[0m\u001b[1;32m      8\u001b[0m     \u001b[0mdata\u001b[0m \u001b[0;34m=\u001b[0m \u001b[0mf\u001b[0m\u001b[0;34m.\u001b[0m\u001b[0mreadlines\u001b[0m\u001b[0;34m(\u001b[0m\u001b[0;34m)\u001b[0m\u001b[0;34m\u001b[0m\u001b[0;34m\u001b[0m\u001b[0m\n\u001b[1;32m      9\u001b[0m \u001b[0;34m\u001b[0m\u001b[0m\n",
      "\u001b[0;31mFileNotFoundError\u001b[0m: [Errno 2] No such file or directory: 'nohup_yolox_s_PS_reid_woMosaic_total.out'"
     ]
    }
   ],
   "source": [
    "file = 'nohup_yolox_s_PS_wopretrain.out'\n",
    "file = 'nohup_yolox_s_PS_wopretrain.out'\n",
    "file = 'nohup_yolox_s_PS_reid_woMosaic_total.out'\n",
    "# file = 'nohup_yolox_s_PS_reid_woMosaic.out'\n",
    "# file = 'nohup_yolox_s_PS_update.out'\n",
    "# file = 'nohup_yolox_s_PS__reid_embedding256.out'\n",
    "with open(file) as f:\n",
    "    data = f.readlines()\n",
    "    \n",
    "epoch = 0\n",
    "loss = []\n",
    "avg = []\n",
    "start = False\n",
    "for i, line in enumerate(data):\n",
    "    if 'reid_loss' in line:\n",
    "        start = True\n",
    "        value = line.split(',')[-3]\n",
    "        value = value.split(':')[-1]\n",
    "        value = float(value)\n",
    "        avg.append(value)\n",
    "    \n",
    "avg"
   ]
  },
  {
   "cell_type": "code",
   "execution_count": 156,
   "metadata": {},
   "outputs": [
    {
     "data": {
      "text/plain": [
       "[<matplotlib.lines.Line2D at 0x7f177ace85d0>]"
      ]
     },
     "execution_count": 156,
     "metadata": {},
     "output_type": "execute_result"
    },
    {
     "data": {
      "image/png": "[encoded data removed]",
      "text/plain": [
       "<Figure size 432x288 with 1 Axes>"
      ]
     },
     "metadata": {
      "needs_background": "light"
     },
     "output_type": "display_data"
    }
   ],
   "source": [
    "x = [i for i in range(len(avg)-1)]\n",
    "# new\n",
    "plt.grid(linestyle='-.')\n",
    "plt.plot(x, avg[1:], 'b')"
   ]
  },
  {
   "cell_type": "code",
   "execution_count": null,
   "metadata": {},
   "outputs": [],
   "source": []
  }
 ],
 "metadata": {
  "kernelspec": {
   "display_name": "txtreid",
   "language": "python",
   "name": "txtreid"
  },
  "language_info": {
   "codemirror_mode": {
    "name": "ipython",
    "version": 3
   },
   "file_extension": ".py",
   "mimetype": "text/x-python",
   "name": "python",
   "nbconvert_exporter": "python",
   "pygments_lexer": "ipython3",
   "version": "3.7.12"
  }
 },
 "nbformat": 4,
 "nbformat_minor": 4
}
